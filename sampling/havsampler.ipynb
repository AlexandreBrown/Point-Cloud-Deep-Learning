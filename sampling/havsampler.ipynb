{
 "cells": [
  {
   "attachments": {},
   "cell_type": "markdown",
   "metadata": {},
   "source": [
    "# Paper\n",
    "\n",
    "[Hierarchical Adaptive Voxel-guided Sampling for Real-time Applications in Large-scale Point Clouds](https://arxiv.org/abs/2305.14306)"
   ]
  },
  {
   "attachments": {},
   "cell_type": "markdown",
   "metadata": {},
   "source": [
    "# Code"
   ]
  },
  {
   "cell_type": "code",
   "execution_count": 1,
   "metadata": {},
   "outputs": [],
   "source": [
    "import numpy as np\n",
    "import laspy\n",
    "import matplotlib.pyplot as plt\n",
    "from multiprocessing import Pool"
   ]
  },
  {
   "cell_type": "code",
   "execution_count": 38,
   "metadata": {},
   "outputs": [
    {
     "data": {
      "text/plain": [
       "(2000000, 3)"
      ]
     },
     "execution_count": 38,
     "metadata": {},
     "output_type": "execute_result"
    }
   ],
   "source": [
    "P = np.random.rand(2_000_000,3)#laspy.read(\"../datasets/unknownPL_stockpile.laz\").xyz\n",
    "P.shape"
   ]
  },
  {
   "cell_type": "code",
   "execution_count": 39,
   "metadata": {},
   "outputs": [
    {
     "data": {
      "text/plain": [
       "(1.6101954480873815e-07, 0.9999999593075063)"
      ]
     },
     "execution_count": 39,
     "metadata": {},
     "output_type": "execute_result"
    }
   ],
   "source": [
    "(P.min(), P.max())"
   ]
  },
  {
   "cell_type": "code",
   "execution_count": 40,
   "metadata": {},
   "outputs": [
    {
     "data": {
      "text/plain": [
       "array([0.015625, 0.015625, 0.015625])"
      ]
     },
     "execution_count": 40,
     "metadata": {},
     "output_type": "execute_result"
    }
   ],
   "source": [
    "v = np.repeat((P.max() + P.min())/2**6, 3)\n",
    "v"
   ]
  },
  {
   "attachments": {},
   "cell_type": "markdown",
   "metadata": {},
   "source": [
    "# Sparse Voxelization via Voxel-Hashing"
   ]
  },
  {
   "attachments": {},
   "cell_type": "markdown",
   "metadata": {},
   "source": [
    "## Voxels Coordinates Computation"
   ]
  },
  {
   "cell_type": "code",
   "execution_count": 41,
   "metadata": {},
   "outputs": [
    {
     "data": {
      "text/plain": [
       "(2000000, 3)"
      ]
     },
     "execution_count": 41,
     "metadata": {},
     "output_type": "execute_result"
    }
   ],
   "source": [
    "def compute_voxel_coordinates(P: np.ndarray, v: np.ndarray) -> np.ndarray:\n",
    "    return np.floor(P / v).astype(int)\n",
    "\n",
    "voxel_coordinates = compute_voxel_coordinates(P, v)\n",
    "voxel_coordinates.shape"
   ]
  },
  {
   "cell_type": "code",
   "execution_count": 42,
   "metadata": {},
   "outputs": [
    {
     "data": {
      "text/plain": [
       "array([[45, 35,  9],\n",
       "       [47,  9, 13],\n",
       "       [17, 34, 23],\n",
       "       [54, 33, 31],\n",
       "       [ 0, 58, 33],\n",
       "       [10, 19,  1],\n",
       "       [31, 38,  2],\n",
       "       [30,  4,  8],\n",
       "       [30, 52,  4],\n",
       "       [10, 15,  0]])"
      ]
     },
     "execution_count": 42,
     "metadata": {},
     "output_type": "execute_result"
    }
   ],
   "source": [
    "voxel_coordinates[0:10]"
   ]
  },
  {
   "attachments": {},
   "cell_type": "markdown",
   "metadata": {},
   "source": [
    "## Voxel-Hashing + Closest Center Strategy"
   ]
  },
  {
   "cell_type": "code",
   "execution_count": 43,
   "metadata": {},
   "outputs": [
    {
     "name": "stdout",
     "output_type": "stream",
     "text": [
      "sample_indexes.shape: (262004,)\n",
      "sample_indexes (First 5 values): [922437, 1973512, 1940974, 432141, 4]\n"
     ]
    }
   ],
   "source": [
    "def center_closest_point_sampling(P: np.ndarray, v: np.ndarray) -> np.array:\n",
    "    \n",
    "    points_voxel_coordinates = compute_voxel_coordinates(P, v)\n",
    "    \n",
    "    T = {}\n",
    "\n",
    "    for point_index, point_voxel_coordinate in enumerate(points_voxel_coordinates):\n",
    "        \n",
    "        point = P[point_index]\n",
    "        \n",
    "        distance_to_voxel_center = np.linalg.norm(point - np.multiply(v, (point_voxel_coordinate + 0.5)), ord=1)\n",
    "        \n",
    "        hashable_voxel_coordinates = tuple(point_voxel_coordinate)\n",
    "        \n",
    "        if T.get(hashable_voxel_coordinates) is not None:\n",
    "            existing_distance = T[hashable_voxel_coordinates][1]\n",
    "            if distance_to_voxel_center < existing_distance:\n",
    "                T[hashable_voxel_coordinates] = (point_index, distance_to_voxel_center)\n",
    "        else:\n",
    "            T[hashable_voxel_coordinates] = (point_index, distance_to_voxel_center)\n",
    "\n",
    "    return np.array([ i for (i, _) in T.values() ])\n",
    "\n",
    "sample_indexes = center_closest_point_sampling(P, v)\n",
    "print(f\"sample_indexes.shape: {sample_indexes.shape}\")\n",
    "print(f\"sample_indexes (First 5 values): {list(sample_indexes[:5])}\")"
   ]
  },
  {
   "attachments": {},
   "cell_type": "markdown",
   "metadata": {},
   "source": [
    "# Adaptive Voxel Search"
   ]
  },
  {
   "cell_type": "code",
   "execution_count": 44,
   "metadata": {},
   "outputs": [],
   "source": [
    "def count_voxels(points: np.ndarray, v: np.ndarray) -> int:\n",
    "    \n",
    "    voxel_coordinates = compute_voxel_coordinates(points, v)\n",
    "    \n",
    "    T = {}\n",
    "    \n",
    "    for voxel_coordinate in voxel_coordinates:\n",
    "        T[tuple(voxel_coordinate)] = 1\n",
    "    \n",
    "    return len(T.keys())\n",
    "\n",
    "def adaptive_voxel_search(points: np.ndarray,\n",
    "                          sampling_number: int, \n",
    "                          tolerance: float = 0.1,\n",
    "                          max_iter: int = 20) -> np.ndarray:\n",
    "    print(f\"adaptive_voxel_search with sampling_number: {sampling_number}, tolerance: {tolerance}\")\n",
    "    \n",
    "    l = points.min()\n",
    "    r = points.max()\n",
    "    \n",
    "    voxel_size = (l + r) / 2\n",
    "    \n",
    "    for iter in range(max_iter):\n",
    "        m_s = count_voxels(points, np.repeat(voxel_size, 3))\n",
    "        print(f\"voxel_size: {voxel_size}, m_s: {m_s}\")\n",
    "        \n",
    "        if m_s < sampling_number:\n",
    "            r = voxel_size\n",
    "        elif m_s > (1+tolerance)*sampling_number:\n",
    "            l = voxel_size\n",
    "        else:\n",
    "            return np.repeat(voxel_size, 3)\n",
    "\n",
    "        voxel_size = (l + r) / 2\n",
    "    \n",
    "    return np.repeat(voxel_size, 3)"
   ]
  },
  {
   "cell_type": "code",
   "execution_count": 45,
   "metadata": {},
   "outputs": [
    {
     "name": "stdout",
     "output_type": "stream",
     "text": [
      "adaptive_voxel_search with sampling_number: 4096, tolerance: 0.1\n",
      "voxel_size: 0.5000000601635255, m_s: 8\n",
      "voxel_size: 0.25000011059153515, m_s: 64\n",
      "voxel_size: 0.12500013580553998, m_s: 512\n",
      "voxel_size: 0.0625001484125424, m_s: 4096\n"
     ]
    },
    {
     "data": {
      "text/plain": [
       "array([0.06250015, 0.06250015, 0.06250015])"
      ]
     },
     "execution_count": 45,
     "metadata": {},
     "output_type": "execute_result"
    }
   ],
   "source": [
    "v_temp = adaptive_voxel_search(P, 4096)\n",
    "v_temp"
   ]
  },
  {
   "attachments": {},
   "cell_type": "markdown",
   "metadata": {},
   "source": [
    "# HAV Sampler"
   ]
  },
  {
   "cell_type": "code",
   "execution_count": 46,
   "metadata": {},
   "outputs": [],
   "source": [
    "def compute_hav_sampling_iteration(P_l: np.ndarray, m_l: int, avs_tolerance: float, avs_max_iter: int) -> list:\n",
    "    print(f\"m_l: {m_l}\")\n",
    "        \n",
    "    v = adaptive_voxel_search(P_l, m_l, tolerance=avs_tolerance, max_iter=avs_max_iter)\n",
    "    P_l_prime = center_closest_point_sampling(P_l, v)\n",
    "    \n",
    "    layer_points = P_l[P_l_prime]\n",
    "    print(f\"layer_points.shape: {layer_points.shape}\")\n",
    "    \n",
    "    return list(layer_points)"
   ]
  },
  {
   "cell_type": "code",
   "execution_count": 54,
   "metadata": {},
   "outputs": [],
   "source": [
    "def hav_sampler(points: np.ndarray, \n",
    "                sampling_layers: list = [4**6, 4**7, 4**8, 4**9],\n",
    "                avs_tolerance: float = 0.1,\n",
    "                avs_max_iter: int = 20) -> np.ndarray:\n",
    "    global P_l\n",
    "    P_l = points\n",
    "    \n",
    "    args = [ (P_l, m_l, avs_tolerance, avs_max_iter) for m_l in sampling_layers ]\n",
    "    \n",
    "    layers_points = []\n",
    "    \n",
    "    with Pool(processes=None) as pool:\n",
    "        layers_points = pool.starmap(compute_hav_sampling_iteration, args)\n",
    "\n",
    "    layers_points = [ item for sublist in layers_points for item in sublist ]\n",
    "    \n",
    "    return np.array(layers_points)[:sum(sampling_layers)]"
   ]
  },
  {
   "cell_type": "code",
   "execution_count": 55,
   "metadata": {},
   "outputs": [
    {
     "name": "stdout",
     "output_type": "stream",
     "text": [
      "m_l: 4096\n",
      "adaptive_voxel_search with sampling_number: 4096, tolerance: 0.1\n",
      "m_l: 16384\n",
      "adaptive_voxel_search with sampling_number: 16384, tolerance: 0.1\n",
      "m_l: 65536\n",
      "adaptive_voxel_search with sampling_number: 65536, tolerance: 0.1\n",
      "m_l: 262144\n",
      "adaptive_voxel_search with sampling_number: 262144, tolerance: 0.1\n",
      "voxel_size: 0.5000000601635255, m_s: 8\n",
      "voxel_size: 0.5000000601635255, m_s: 8\n",
      "voxel_size: 0.5000000601635255, m_s: 8\n",
      "voxel_size: 0.5000000601635255, m_s: 8\n",
      "voxel_size: 0.25000011059153515, m_s: 64\n",
      "voxel_size: 0.25000011059153515, m_s: 64\n",
      "voxel_size: 0.25000011059153515, m_s: 64\n",
      "voxel_size: 0.25000011059153515, m_s: 64\n",
      "voxel_size: 0.12500013580553998, m_s: 512\n",
      "voxel_size: 0.12500013580553998, m_s: 512\n",
      "voxel_size: 0.12500013580553998, m_s: 512\n",
      "voxel_size: 0.12500013580553998, m_s: 512\n",
      "voxel_size: 0.0625001484125424, m_s: 4096\n",
      "voxel_size: 0.0625001484125424, m_s: 4096\n",
      "voxel_size: 0.0625001484125424, m_s: 4096\n",
      "voxel_size: 0.0625001484125424, m_s: 4096\n",
      "voxel_size: 0.0312501547160436, m_s: 32768\n",
      "voxel_size: 0.0312501547160436, m_s: 32768\n",
      "voxel_size: 0.0312501547160436, m_s: 32768\n",
      "voxel_size: 0.046875151564293, m_s: 10648\n",
      "voxel_size: 0.015625157867794205, m_s: 262004\n",
      "voxel_size: 0.015625157867794205, m_s: 262004\n",
      "voxel_size: 0.039062653140168296, m_s: 17576\n",
      "voxel_size: 0.023437656291918903, m_s: 79507\n",
      "voxel_size: 0.007812659443669507, m_s: 1289389\n",
      "voxel_size: 0.027343905503981254, m_s: 50653\n",
      "voxel_size: 0.011718908655731856, m_s: 604092\n",
      "voxel_size: 0.025390780897950077, m_s: 64000\n",
      "voxel_size: 0.013672033261763031, m_s: 394859\n",
      "voxel_size: 0.024414218594934492, m_s: 68921\n",
      "layer_points.shape: (4096, 3)\n",
      "voxel_size: 0.014648595564778618, m_s: 325227\n",
      "voxel_size: 0.015136876716286413, m_s: 291943\n",
      "voxel_size: 0.015381017292040309, m_s: 275765\n",
      "layer_points.shape: (17576, 3)\n",
      "layer_points.shape: (68921, 3)\n",
      "layer_points.shape: (275765, 3)\n"
     ]
    }
   ],
   "source": [
    "sample = hav_sampler(P)"
   ]
  },
  {
   "cell_type": "code",
   "execution_count": 56,
   "metadata": {},
   "outputs": [
    {
     "data": {
      "text/plain": [
       "(348160, 3)"
      ]
     },
     "execution_count": 56,
     "metadata": {},
     "output_type": "execute_result"
    }
   ],
   "source": [
    "sample.shape"
   ]
  },
  {
   "cell_type": "code",
   "execution_count": 57,
   "metadata": {},
   "outputs": [
    {
     "data": {
      "text/plain": [
       "348160"
      ]
     },
     "execution_count": 57,
     "metadata": {},
     "output_type": "execute_result"
    }
   ],
   "source": [
    "sum(sampling_layers)"
   ]
  },
  {
   "attachments": {},
   "cell_type": "markdown",
   "metadata": {},
   "source": [
    "## Save sample to LAS"
   ]
  },
  {
   "cell_type": "code",
   "execution_count": 58,
   "metadata": {},
   "outputs": [],
   "source": [
    "header = laspy.LasHeader(point_format=3, version=\"1.4\")\n",
    "header.offsets = np.min(sample, axis=0)\n",
    "header.scales = np.array([0.1, 0.1, 0.1])\n",
    "\n",
    "las = laspy.LasData(header)\n",
    "\n",
    "las.x = sample[:, 0]\n",
    "las.y = sample[:, 1]\n",
    "las.z = sample[:, 2]\n",
    "\n",
    "las.write(\"sample.las\")"
   ]
  }
 ],
 "metadata": {
  "kernelspec": {
   "display_name": "Python 3",
   "language": "python",
   "name": "python3"
  },
  "language_info": {
   "codemirror_mode": {
    "name": "ipython",
    "version": 3
   },
   "file_extension": ".py",
   "mimetype": "text/x-python",
   "name": "python",
   "nbconvert_exporter": "python",
   "pygments_lexer": "ipython3",
   "version": "3.8.16"
  },
  "orig_nbformat": 4,
  "vscode": {
   "interpreter": {
    "hash": "d4d1e4263499bec80672ea0156c357c1ee493ec2b1c70f0acce89fc37c4a6abe"
   }
  }
 },
 "nbformat": 4,
 "nbformat_minor": 2
}
