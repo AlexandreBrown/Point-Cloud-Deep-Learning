{
 "cells": [
  {
   "cell_type": "code",
   "execution_count": 1,
   "metadata": {},
   "outputs": [],
   "source": [
    "import numpy as np\n",
    "import pandas as pd\n",
    "import matplotlib.pyplot as plt\n",
    "import torch\n",
    "import torch.nn as nn\n",
    "import torch.nn.functional as F\n",
    "from sklearn.preprocessing import MinMaxScaler\n",
    "from sklearn.model_selection import train_test_split\n",
    "from torch.utils.data import DataLoader"
   ]
  },
  {
   "cell_type": "markdown",
   "metadata": {},
   "source": [
    "# Dataset"
   ]
  },
  {
   "cell_type": "code",
   "execution_count": 2,
   "metadata": {},
   "outputs": [],
   "source": [
    "DS_PATH = '../datasets/'"
   ]
  },
  {
   "cell_type": "code",
   "execution_count": 3,
   "metadata": {},
   "outputs": [],
   "source": [
    "X_df = pd.read_csv(f\"{DS_PATH}bildstein_station1_xyz_intensity_rgb/bildstein_station1_xyz_intensity_rgb.txt\", sep=' ', header=None, names=['x', 'y', 'z', 'intensity', 'r', 'g', 'b'])"
   ]
  },
  {
   "cell_type": "code",
   "execution_count": 4,
   "metadata": {},
   "outputs": [
    {
     "data": {
      "text/html": [
       "<div>\n",
       "<style scoped>\n",
       "    .dataframe tbody tr th:only-of-type {\n",
       "        vertical-align: middle;\n",
       "    }\n",
       "\n",
       "    .dataframe tbody tr th {\n",
       "        vertical-align: top;\n",
       "    }\n",
       "\n",
       "    .dataframe thead th {\n",
       "        text-align: right;\n",
       "    }\n",
       "</style>\n",
       "<table border=\"1\" class=\"dataframe\">\n",
       "  <thead>\n",
       "    <tr style=\"text-align: right;\">\n",
       "      <th></th>\n",
       "      <th>x</th>\n",
       "      <th>y</th>\n",
       "      <th>z</th>\n",
       "      <th>intensity</th>\n",
       "      <th>r</th>\n",
       "      <th>g</th>\n",
       "      <th>b</th>\n",
       "    </tr>\n",
       "  </thead>\n",
       "  <tbody>\n",
       "    <tr>\n",
       "      <th>0</th>\n",
       "      <td>20.623</td>\n",
       "      <td>40.276</td>\n",
       "      <td>-1.999</td>\n",
       "      <td>-1031</td>\n",
       "      <td>127</td>\n",
       "      <td>141</td>\n",
       "      <td>154</td>\n",
       "    </tr>\n",
       "    <tr>\n",
       "      <th>1</th>\n",
       "      <td>20.362</td>\n",
       "      <td>40.375</td>\n",
       "      <td>-2.239</td>\n",
       "      <td>-941</td>\n",
       "      <td>130</td>\n",
       "      <td>141</td>\n",
       "      <td>159</td>\n",
       "    </tr>\n",
       "    <tr>\n",
       "      <th>2</th>\n",
       "      <td>20.360</td>\n",
       "      <td>40.376</td>\n",
       "      <td>-2.402</td>\n",
       "      <td>-1083</td>\n",
       "      <td>139</td>\n",
       "      <td>151</td>\n",
       "      <td>165</td>\n",
       "    </tr>\n",
       "    <tr>\n",
       "      <th>3</th>\n",
       "      <td>20.374</td>\n",
       "      <td>40.367</td>\n",
       "      <td>-2.405</td>\n",
       "      <td>-1122</td>\n",
       "      <td>131</td>\n",
       "      <td>147</td>\n",
       "      <td>163</td>\n",
       "    </tr>\n",
       "    <tr>\n",
       "      <th>4</th>\n",
       "      <td>20.372</td>\n",
       "      <td>40.366</td>\n",
       "      <td>-2.405</td>\n",
       "      <td>-1165</td>\n",
       "      <td>132</td>\n",
       "      <td>145</td>\n",
       "      <td>161</td>\n",
       "    </tr>\n",
       "  </tbody>\n",
       "</table>\n",
       "</div>"
      ],
      "text/plain": [
       "        x       y      z  intensity    r    g    b\n",
       "0  20.623  40.276 -1.999      -1031  127  141  154\n",
       "1  20.362  40.375 -2.239       -941  130  141  159\n",
       "2  20.360  40.376 -2.402      -1083  139  151  165\n",
       "3  20.374  40.367 -2.405      -1122  131  147  163\n",
       "4  20.372  40.366 -2.405      -1165  132  145  161"
      ]
     },
     "execution_count": 4,
     "metadata": {},
     "output_type": "execute_result"
    }
   ],
   "source": [
    "X_df.head()"
   ]
  },
  {
   "cell_type": "code",
   "execution_count": 5,
   "metadata": {},
   "outputs": [
    {
     "data": {
      "text/plain": [
       "(29697591, 7)"
      ]
     },
     "execution_count": 5,
     "metadata": {},
     "output_type": "execute_result"
    }
   ],
   "source": [
    "X_df.shape"
   ]
  },
  {
   "cell_type": "code",
   "execution_count": 6,
   "metadata": {},
   "outputs": [],
   "source": [
    "labels_df = pd.read_csv(f\"{DS_PATH}sem8_labels_training/sem8_labels_training/bildstein_station1_xyz_intensity_rgb.labels\", sep='\\r\\n', header=None, names=['label'], engine='python')"
   ]
  },
  {
   "cell_type": "code",
   "execution_count": 7,
   "metadata": {},
   "outputs": [
    {
     "data": {
      "text/html": [
       "<div>\n",
       "<style scoped>\n",
       "    .dataframe tbody tr th:only-of-type {\n",
       "        vertical-align: middle;\n",
       "    }\n",
       "\n",
       "    .dataframe tbody tr th {\n",
       "        vertical-align: top;\n",
       "    }\n",
       "\n",
       "    .dataframe thead th {\n",
       "        text-align: right;\n",
       "    }\n",
       "</style>\n",
       "<table border=\"1\" class=\"dataframe\">\n",
       "  <thead>\n",
       "    <tr style=\"text-align: right;\">\n",
       "      <th></th>\n",
       "      <th>label</th>\n",
       "    </tr>\n",
       "  </thead>\n",
       "  <tbody>\n",
       "    <tr>\n",
       "      <th>0</th>\n",
       "      <td>0</td>\n",
       "    </tr>\n",
       "    <tr>\n",
       "      <th>1</th>\n",
       "      <td>0</td>\n",
       "    </tr>\n",
       "    <tr>\n",
       "      <th>2</th>\n",
       "      <td>6</td>\n",
       "    </tr>\n",
       "    <tr>\n",
       "      <th>3</th>\n",
       "      <td>0</td>\n",
       "    </tr>\n",
       "    <tr>\n",
       "      <th>4</th>\n",
       "      <td>0</td>\n",
       "    </tr>\n",
       "  </tbody>\n",
       "</table>\n",
       "</div>"
      ],
      "text/plain": [
       "   label\n",
       "0      0\n",
       "1      0\n",
       "2      6\n",
       "3      0\n",
       "4      0"
      ]
     },
     "execution_count": 7,
     "metadata": {},
     "output_type": "execute_result"
    }
   ],
   "source": [
    "labels_df.head()"
   ]
  },
  {
   "cell_type": "code",
   "execution_count": 8,
   "metadata": {},
   "outputs": [
    {
     "data": {
      "text/plain": [
       "(29697591, 1)"
      ]
     },
     "execution_count": 8,
     "metadata": {},
     "output_type": "execute_result"
    }
   ],
   "source": [
    "labels_df.shape"
   ]
  },
  {
   "cell_type": "code",
   "execution_count": 9,
   "metadata": {},
   "outputs": [
    {
     "data": {
      "text/html": [
       "<div>\n",
       "<style scoped>\n",
       "    .dataframe tbody tr th:only-of-type {\n",
       "        vertical-align: middle;\n",
       "    }\n",
       "\n",
       "    .dataframe tbody tr th {\n",
       "        vertical-align: top;\n",
       "    }\n",
       "\n",
       "    .dataframe thead th {\n",
       "        text-align: right;\n",
       "    }\n",
       "</style>\n",
       "<table border=\"1\" class=\"dataframe\">\n",
       "  <thead>\n",
       "    <tr style=\"text-align: right;\">\n",
       "      <th></th>\n",
       "      <th>x</th>\n",
       "      <th>y</th>\n",
       "      <th>z</th>\n",
       "      <th>label</th>\n",
       "    </tr>\n",
       "  </thead>\n",
       "  <tbody>\n",
       "    <tr>\n",
       "      <th>0</th>\n",
       "      <td>20.623</td>\n",
       "      <td>40.276</td>\n",
       "      <td>-1.999</td>\n",
       "      <td>0</td>\n",
       "    </tr>\n",
       "    <tr>\n",
       "      <th>1</th>\n",
       "      <td>20.362</td>\n",
       "      <td>40.375</td>\n",
       "      <td>-2.239</td>\n",
       "      <td>0</td>\n",
       "    </tr>\n",
       "    <tr>\n",
       "      <th>2</th>\n",
       "      <td>20.360</td>\n",
       "      <td>40.376</td>\n",
       "      <td>-2.402</td>\n",
       "      <td>6</td>\n",
       "    </tr>\n",
       "    <tr>\n",
       "      <th>3</th>\n",
       "      <td>20.374</td>\n",
       "      <td>40.367</td>\n",
       "      <td>-2.405</td>\n",
       "      <td>0</td>\n",
       "    </tr>\n",
       "    <tr>\n",
       "      <th>4</th>\n",
       "      <td>20.372</td>\n",
       "      <td>40.366</td>\n",
       "      <td>-2.405</td>\n",
       "      <td>0</td>\n",
       "    </tr>\n",
       "  </tbody>\n",
       "</table>\n",
       "</div>"
      ],
      "text/plain": [
       "        x       y      z  label\n",
       "0  20.623  40.276 -1.999      0\n",
       "1  20.362  40.375 -2.239      0\n",
       "2  20.360  40.376 -2.402      6\n",
       "3  20.374  40.367 -2.405      0\n",
       "4  20.372  40.366 -2.405      0"
      ]
     },
     "execution_count": 9,
     "metadata": {},
     "output_type": "execute_result"
    }
   ],
   "source": [
    "df = pd.concat([X_df[['x', 'y', 'z']], labels_df], axis=1)\n",
    "\n",
    "df.head()"
   ]
  },
  {
   "cell_type": "markdown",
   "metadata": {},
   "source": [
    "## Data Cleaning"
   ]
  },
  {
   "cell_type": "markdown",
   "metadata": {},
   "source": [
    "### Null Data"
   ]
  },
  {
   "cell_type": "code",
   "execution_count": 10,
   "metadata": {},
   "outputs": [
    {
     "data": {
      "text/plain": [
       "x        0\n",
       "y        0\n",
       "z        0\n",
       "label    0\n",
       "dtype: int64"
      ]
     },
     "execution_count": 10,
     "metadata": {},
     "output_type": "execute_result"
    }
   ],
   "source": [
    "df.isnull().sum()"
   ]
  },
  {
   "cell_type": "markdown",
   "metadata": {},
   "source": [
    "### Duplicated Data"
   ]
  },
  {
   "cell_type": "code",
   "execution_count": 11,
   "metadata": {},
   "outputs": [
    {
     "data": {
      "text/plain": [
       "624770"
      ]
     },
     "execution_count": 11,
     "metadata": {},
     "output_type": "execute_result"
    }
   ],
   "source": [
    "df.duplicated().sum()"
   ]
  },
  {
   "cell_type": "code",
   "execution_count": 12,
   "metadata": {},
   "outputs": [],
   "source": [
    "df = df.drop_duplicates()"
   ]
  },
  {
   "cell_type": "code",
   "execution_count": 13,
   "metadata": {},
   "outputs": [
    {
     "data": {
      "text/plain": [
       "0"
      ]
     },
     "execution_count": 13,
     "metadata": {},
     "output_type": "execute_result"
    }
   ],
   "source": [
    "df.duplicated().sum()"
   ]
  },
  {
   "cell_type": "code",
   "execution_count": 14,
   "metadata": {},
   "outputs": [
    {
     "data": {
      "text/plain": [
       "(29072821, 4)"
      ]
     },
     "execution_count": 14,
     "metadata": {},
     "output_type": "execute_result"
    }
   ],
   "source": [
    "df.shape"
   ]
  },
  {
   "cell_type": "markdown",
   "metadata": {},
   "source": [
    "## Exploratory Data Analysis"
   ]
  },
  {
   "cell_type": "markdown",
   "metadata": {},
   "source": [
    "### Target Label Distribution"
   ]
  },
  {
   "cell_type": "code",
   "execution_count": 15,
   "metadata": {},
   "outputs": [
    {
     "data": {
      "text/plain": [
       "Text(0, 0.5, 'Count (millions)')"
      ]
     },
     "execution_count": 15,
     "metadata": {},
     "output_type": "execute_result"
    },
    {
     "data": {
      "image/png": "[encoded data removed]",
      "text/plain": [
       "<Figure size 640x480 with 1 Axes>"
      ]
     },
     "metadata": {},
     "output_type": "display_data"
    }
   ],
   "source": [
    "labels, counts = np.unique(df['label'], return_counts=True)\n",
    "\n",
    "fig, ax = plt.subplots()\n",
    "ax.bar(labels, counts, align='center')\n",
    "ax.set_xticks(labels)\n",
    "ax.set_yticks(counts)\n",
    "ax.set_yticklabels(counts / 1_000_000)\n",
    "ax.set_title('Label distribution')\n",
    "ax.set_ylabel('Count (millions)')"
   ]
  },
  {
   "cell_type": "markdown",
   "metadata": {},
   "source": [
    "## PyTorch Dataset"
   ]
  },
  {
   "cell_type": "code",
   "execution_count": 16,
   "metadata": {},
   "outputs": [],
   "source": [
    "X = df.drop('label', axis=1).values\n",
    "y = df['label'].values\n",
    "\n",
    "X_train, X_test, y_train, y_test = train_test_split(X, y, test_size=0.2, random_state=42, stratify=y)\n",
    "\n",
    "scaler = MinMaxScaler()\n",
    "\n",
    "X_train = torch.from_numpy(scaler.fit_transform(X_train))\n",
    "y_train = torch.from_numpy(y_train)\n",
    "X_test = torch.from_numpy(scaler.transform(X_test))\n",
    "y_test = torch.from_numpy(y_test)"
   ]
  },
  {
   "cell_type": "code",
   "execution_count": 17,
   "metadata": {},
   "outputs": [
    {
     "data": {
      "text/plain": [
       "torch.Size([23258256, 3])"
      ]
     },
     "execution_count": 17,
     "metadata": {},
     "output_type": "execute_result"
    }
   ],
   "source": [
    "X_train.shape"
   ]
  },
  {
   "cell_type": "code",
   "execution_count": 18,
   "metadata": {},
   "outputs": [
    {
     "data": {
      "text/plain": [
       "torch.Size([23258256])"
      ]
     },
     "execution_count": 18,
     "metadata": {},
     "output_type": "execute_result"
    }
   ],
   "source": [
    "y_train.shape"
   ]
  },
  {
   "cell_type": "code",
   "execution_count": 19,
   "metadata": {},
   "outputs": [
    {
     "data": {
      "text/plain": [
       "torch.Size([5814565, 3])"
      ]
     },
     "execution_count": 19,
     "metadata": {},
     "output_type": "execute_result"
    }
   ],
   "source": [
    "X_test.shape"
   ]
  },
  {
   "cell_type": "code",
   "execution_count": 20,
   "metadata": {},
   "outputs": [
    {
     "data": {
      "text/plain": [
       "torch.Size([5814565])"
      ]
     },
     "execution_count": 20,
     "metadata": {},
     "output_type": "execute_result"
    }
   ],
   "source": [
    "y_test.shape"
   ]
  },
  {
   "cell_type": "code",
   "execution_count": 21,
   "metadata": {},
   "outputs": [],
   "source": [
    "train_ds = torch.utils.data.TensorDataset(X_train, y_train)\n",
    "test_ds = torch.utils.data.TensorDataset(X_test, y_test)"
   ]
  },
  {
   "cell_type": "code",
   "execution_count": 23,
   "metadata": {},
   "outputs": [],
   "source": [
    "train_dl = DataLoader(train_ds, batch_size=4096, shuffle=True)"
   ]
  },
  {
   "cell_type": "code",
   "execution_count": 24,
   "metadata": {},
   "outputs": [
    {
     "name": "stdout",
     "output_type": "stream",
     "text": [
      "x_bs.shape: torch.Size([4096, 3])\n",
      "y_bs.shape: torch.Size([4096])\n"
     ]
    }
   ],
   "source": [
    "x_bs, y_bs = next(iter(train_dl))\n",
    "print(f\"x_bs.shape: {x_bs.shape}\")\n",
    "print(f\"y_bs.shape: {y_bs.shape}\")"
   ]
  },
  {
   "cell_type": "code",
   "execution_count": 25,
   "metadata": {},
   "outputs": [
    {
     "data": {
      "text/plain": [
       "torch.Size([1, 3, 4096])"
      ]
     },
     "execution_count": 25,
     "metadata": {},
     "output_type": "execute_result"
    }
   ],
   "source": [
    "ds_batch_size = 1\n",
    "number_of_features = x_bs.shape[1]\n",
    "number_of_points = x_bs.shape[0]\n",
    "\n",
    "x_bs = x_bs.reshape(ds_batch_size, number_of_features, number_of_points)\n",
    "\n",
    "x_bs.shape"
   ]
  },
  {
   "cell_type": "markdown",
   "metadata": {},
   "source": [
    "# Model"
   ]
  },
  {
   "cell_type": "markdown",
   "metadata": {},
   "source": [
    "## TNet"
   ]
  },
  {
   "cell_type": "code",
   "execution_count": 44,
   "metadata": {},
   "outputs": [],
   "source": [
    "class SharedMLPBlock(nn.Module):\n",
    "    def __init__(self, \n",
    "                 in_channels: int, \n",
    "                 out_channels: int, \n",
    "                 min_batch_size_for_batch_norm: int = 2):\n",
    "        super().__init__()\n",
    "        \n",
    "        self.min_batch_size_for_batch_norm = min_batch_size_for_batch_norm\n",
    "        self.conv = nn.Conv1d(in_channels=in_channels, out_channels=out_channels, kernel_size=1, stride=1)\n",
    "        self.bn = nn.BatchNorm1d(out_channels)\n",
    "    \n",
    "    def forward(self, X: torch.Tensor) -> torch.Tensor:\n",
    "        \"\"\"Forward pass.\n",
    "\n",
    "        Args:\n",
    "            X (torch.Tensor): Input of size (batch_size, in_channels, number_of_points).\n",
    "\n",
    "        Returns:\n",
    "            torch.Tensor: Output of size (batch_size, out_channels, number_of_points).\n",
    "        \"\"\"\n",
    "        \n",
    "        batch_size = X.shape[0]\n",
    "        \n",
    "        X = self.conv(X)\n",
    "        \n",
    "        if (batch_size >= self.min_batch_size_for_batch_norm and self.training) or not self.training:\n",
    "            X = self.bn(X)\n",
    "        \n",
    "        X = F.relu(X)\n",
    "        \n",
    "        return X\n",
    "\n",
    "\n",
    "class MLPBlock(nn.Module):\n",
    "    def __init__(self, \n",
    "                 in_features: int, \n",
    "                 out_features: int, \n",
    "                 min_batch_size_for_batch_norm: int = 2):\n",
    "        super().__init__()\n",
    "        \n",
    "        self.min_batch_size_for_batch_norm = min_batch_size_for_batch_norm\n",
    "        self.fc = nn.Linear(in_features=in_features, out_features=out_features)\n",
    "        self.bn = nn.BatchNorm1d(out_features)\n",
    "    \n",
    "    def forward(self, X: torch.Tensor) -> torch.Tensor:\n",
    "        \"\"\"Forward pass.\n",
    "\n",
    "        Args:\n",
    "            X (torch.Tensor): Input of size (batch_size, in_features).\n",
    "\n",
    "        Returns:\n",
    "            torch.Tensor: Output of size (batch_size, out_features).\n",
    "        \"\"\"\n",
    "        \n",
    "        batch_size = X.shape[0]\n",
    "        \n",
    "        X = self.fc(X)\n",
    "        \n",
    "        if (batch_size >= self.min_batch_size_for_batch_norm and self.training) or not self.training:\n",
    "            X = self.bn(X)\n",
    "        \n",
    "        X = F.relu(X)\n",
    "        \n",
    "        return X\n",
    "    \n",
    "\n",
    "class TNet(nn.Module):\n",
    "    def __init__(self, \n",
    "                 number_of_features: int,\n",
    "                 min_batch_size_for_batch_norm: int = 2):\n",
    "        \"\"\"Transformation Network.\n",
    "\n",
    "        Args:\n",
    "            number_of_features (int): Number of features for the point cloud.\n",
    "        \"\"\"\n",
    "        super().__init__()\n",
    "        \n",
    "        self.number_of_features = number_of_features\n",
    "        \n",
    "        identity_matrix = torch.eye(self.number_of_features, requires_grad=True).reshape(-1)\n",
    "        if identity_matrix.is_cuda:\n",
    "            identity_matrix=identity_matrix.cuda()\n",
    "        self.identity_matrix = identity_matrix\n",
    "        \n",
    "        self.feature_extraction_blocks = nn.Sequential(\n",
    "            SharedMLPBlock(in_channels=self.number_of_features, out_channels=64, min_batch_size_for_batch_norm=min_batch_size_for_batch_norm),\n",
    "            SharedMLPBlock(in_channels=64, out_channels=128, min_batch_size_for_batch_norm=min_batch_size_for_batch_norm),\n",
    "            SharedMLPBlock(in_channels=128, out_channels=1024, min_batch_size_for_batch_norm=min_batch_size_for_batch_norm)\n",
    "        )\n",
    "        \n",
    "        self.mlp = nn.Sequential(\n",
    "            MLPBlock(in_features=1024, out_features=512, min_batch_size_for_batch_norm=min_batch_size_for_batch_norm),\n",
    "            MLPBlock(in_features=512, out_features=256, min_batch_size_for_batch_norm=min_batch_size_for_batch_norm),\n",
    "            nn.Linear(in_features=256, out_features=number_of_features * number_of_features)\n",
    "        )\n",
    "    \n",
    "    def forward(self, X: torch.Tensor) -> torch.Tensor:\n",
    "        \"\"\"\n",
    "        Args:\n",
    "            X (torch.Tensor): Input of size (batch_size, number_of_features, number_of_points)\n",
    "        \n",
    "        Returns:\n",
    "            torch.Tensor: Output of size (batch_size, number_of_features, number_of_features)\n",
    "        \"\"\"\n",
    "        X = self.feature_extraction_blocks(X) # Ouput: (batch_size, 1024, number_of_points)\n",
    "        \n",
    "        number_of_points = X.shape[-1]\n",
    "        X = F.max_pool1d(X, kernel_size=number_of_points, stride=1, padding=0).squeeze(dim=-1) # Ouput: (batch_size, 1024)\n",
    "        \n",
    "        X = self.mlp(X) # Ouput: (batch_size, number_of_features * number_of_features)\n",
    "        \n",
    "        X = X + self.identity_matrix # Ouput: (batch_size, number_of_features * number_of_features)\n",
    "        \n",
    "        X = X.reshape(-1, self.number_of_features, self.number_of_features) # Ouput: (batch_size, number_of_features, number_of_features)\n",
    "\n",
    "        return X"
   ]
  },
  {
   "cell_type": "markdown",
   "metadata": {},
   "source": [
    "## PointNet"
   ]
  },
  {
   "cell_type": "code",
   "execution_count": 52,
   "metadata": {},
   "outputs": [],
   "source": [
    "class PointNetEncoder(nn.Module):\n",
    "    def __init__(self, \n",
    "                 number_of_features: int, \n",
    "                 number_of_classes: int, \n",
    "                 min_batch_size_for_batch_norm: int = 2):\n",
    "        super().__init__()\n",
    "        \n",
    "        self.number_of_features = number_of_features\n",
    "        self.number_of_classes = number_of_classes\n",
    "        \n",
    "        self.tnet_inputs_transformer = TNet(number_of_features=self.number_of_features)\n",
    "        \n",
    "        self.shared_mlp_1 = nn.Sequential(\n",
    "            SharedMLPBlock(in_channels=self.number_of_features, out_channels=64, min_batch_size_for_batch_norm=min_batch_size_for_batch_norm),\n",
    "            SharedMLPBlock(in_channels=64, out_channels=64, min_batch_size_for_batch_norm=min_batch_size_for_batch_norm)\n",
    "        )\n",
    "        \n",
    "        self.tnet_features_transformer = TNet(number_of_features=64)\n",
    "        \n",
    "        self.shared_mlp_2 = nn.Sequential(\n",
    "            SharedMLPBlock(in_channels=64, out_channels=64, min_batch_size_for_batch_norm=min_batch_size_for_batch_norm),\n",
    "            SharedMLPBlock(in_channels=64, out_channels=128, min_batch_size_for_batch_norm=min_batch_size_for_batch_norm),\n",
    "            SharedMLPBlock(in_channels=128, out_channels=1024, min_batch_size_for_batch_norm=min_batch_size_for_batch_norm)\n",
    "        )\n",
    "    \n",
    "    def forward(self, X: torch.Tensor) -> tuple:\n",
    "        \"\"\"\n",
    "\n",
    "        Args:\n",
    "            X (torch.Tensor): Input of size (batch_size, number_of_features, number_of_points)\n",
    "\n",
    "        Returns:\n",
    "            tuple: two torch.Tensor : One of size (batch_size, 64, number_of_points) and one of size (batch_size, 1024, 1).\n",
    "            The first output is the local features extracted by the network and the second one is the global features.\n",
    "        \"\"\"\n",
    "        X = X.float()\n",
    "        \n",
    "        inputs_transform = self.tnet_inputs_transformer(X) # Output: (batch_size, number_of_features, number_of_features)\n",
    "        \n",
    "        X = torch.bmm(X.transpose(2,1), inputs_transform).transpose(2,1) # Output: (batch_size, number_of_features, number_of_points)\n",
    "        \n",
    "        X = self.shared_mlp_1(X) # Output: (batch_size, 64, number_of_points)\n",
    "        \n",
    "        features_transform = self.tnet_features_transformer(X) # Output: (batch_size, 64, 64)\n",
    "        \n",
    "        local_features = torch.bmm(X.transpose(2,1), features_transform).transpose(2,1) # Output: (batch_size, 64, number_of_points)\n",
    "        \n",
    "        X = self.shared_mlp_2(local_features) # Output: (batch_size, 1024, number_of_points)\n",
    "        \n",
    "        global_features = F.max_pool1d(X, kernel_size=X.shape[-1], stride=1, padding=0) # Output: (batch_size, 1024, 1)\n",
    "        \n",
    "        return (local_features, global_features)"
   ]
  },
  {
   "cell_type": "code",
   "execution_count": 64,
   "metadata": {},
   "outputs": [],
   "source": [
    "class PointNetClassification(nn.Module):\n",
    "    def __init__(self, \n",
    "                 number_of_features: int, \n",
    "                 number_of_classes: int, \n",
    "                 min_batch_size_for_batch_norm: int = 2):\n",
    "        super().__init__()\n",
    "        \n",
    "        self.number_of_features = number_of_features\n",
    "        self.number_of_classes = number_of_classes\n",
    "        self.min_batch_size_for_batch_norm = min_batch_size_for_batch_norm\n",
    "        \n",
    "        self.encoder = PointNetEncoder(number_of_features=number_of_features,\n",
    "                                       number_of_classes=number_of_classes,\n",
    "                                       min_batch_size_for_batch_norm=min_batch_size_for_batch_norm)\n",
    "        \n",
    "        self.classification_mlp = nn.Sequential(\n",
    "            MLPBlock(in_features=1024, out_features=512, min_batch_size_for_batch_norm=min_batch_size_for_batch_norm),\n",
    "            MLPBlock(in_features=512, out_features=256, min_batch_size_for_batch_norm=min_batch_size_for_batch_norm),\n",
    "            nn.Dropout(p=0.3),\n",
    "            nn.Linear(in_features=256, out_features=number_of_classes), \n",
    "        )\n",
    "    \n",
    "    def forward(self, X: torch.Tensor) -> torch.Tensor:\n",
    "        \"\"\"\n",
    "\n",
    "        Args:\n",
    "            X (torch.Tensor): Input of size (batch_size, number_of_features, number_of_points)\n",
    "\n",
    "        Returns:\n",
    "            torch.Tensor: Output of size (batch_size, number_of_classes)\n",
    "        \"\"\"\n",
    "        X = self.encoder(X)[1] # Output: (batch_size, 1024, 1)\n",
    "\n",
    "        X = X.squeeze(dim=-1) # Output: (batch_size, 1024)\n",
    "\n",
    "        X = self.classification_mlp(X) # Output: (batch_size, number_of_classes)\n",
    "\n",
    "        return X"
   ]
  },
  {
   "cell_type": "code",
   "execution_count": 65,
   "metadata": {},
   "outputs": [
    {
     "name": "stdout",
     "output_type": "stream",
     "text": [
      "====PointNetClassification forward====\n",
      "X.shape: torch.Size([32, 30, 1024])\n",
      "encoder(X)[1].shape: torch.Size([32, 1024, 1])\n",
      "squeeze(X).shape: torch.Size([32, 1024])\n",
      "classification_mlp(X).shape: torch.Size([32, 10])\n"
     ]
    },
    {
     "data": {
      "text/plain": [
       "torch.Size([32, 10])"
      ]
     },
     "execution_count": 65,
     "metadata": {},
     "output_type": "execute_result"
    }
   ],
   "source": [
    "cls_model = PointNetClassification(number_of_features=30, number_of_classes=10)\n",
    "\n",
    "cls_model(torch.randn(32, 30, 1024)).shape"
   ]
  },
  {
   "cell_type": "code",
   "execution_count": 59,
   "metadata": {},
   "outputs": [],
   "source": [
    "class PointNetSemanticSegmentation(nn.Module):\n",
    "    def __init__(self, \n",
    "                 number_of_features: int, \n",
    "                 number_of_classes: int, \n",
    "                 min_batch_size_for_batch_norm: int = 2):\n",
    "        super().__init__()\n",
    "        \n",
    "        self.number_of_features = number_of_features\n",
    "        self.number_of_classes = number_of_classes\n",
    "        self.min_batch_size_for_batch_norm = min_batch_size_for_batch_norm\n",
    "        \n",
    "        self.encoder = PointNetEncoder(number_of_features=number_of_features,\n",
    "                                       number_of_classes=number_of_classes,\n",
    "                                       min_batch_size_for_batch_norm=min_batch_size_for_batch_norm)\n",
    "        \n",
    "        self.shared_mlp_1 = nn.Sequential(\n",
    "            SharedMLPBlock(in_channels=1088, out_channels=512, min_batch_size_for_batch_norm=min_batch_size_for_batch_norm),\n",
    "            SharedMLPBlock(in_channels=512, out_channels=256, min_batch_size_for_batch_norm=min_batch_size_for_batch_norm),\n",
    "            SharedMLPBlock(in_channels=256, out_channels=128, min_batch_size_for_batch_norm=min_batch_size_for_batch_norm)\n",
    "        )\n",
    "        \n",
    "        self.shared_mlp_2 = nn.Sequential(\n",
    "            SharedMLPBlock(in_channels=128, out_channels=128, min_batch_size_for_batch_norm=min_batch_size_for_batch_norm),\n",
    "            nn.Conv1d(in_channels=128, out_channels=number_of_classes, kernel_size=1, stride=1)\n",
    "        )\n",
    "    \n",
    "    def forward(self, X: torch.Tensor) -> torch.Tensor:\n",
    "        \"\"\"\n",
    "\n",
    "        Args:\n",
    "            X (torch.Tensor): Input of size (batch_size, number_of_features, number_of_points)\n",
    "\n",
    "        Returns:\n",
    "            torch.Tensor: Output of size (batch_size, number_of_classes, number_of_points)\n",
    "        \"\"\"\n",
    "        (local_features, global_features) = self.encoder(X)\n",
    "        \n",
    "        global_features = global_features.repeat(1, 1, local_features.shape[-1]) # Output: (batch_size, 1024, number_of_points)\n",
    "        \n",
    "        X = torch.cat((local_features, global_features), dim=1) # Output: (batch_size, 1088, number_of_points)\n",
    "        \n",
    "        X = self.shared_mlp_1(X) # Output: (batch_size, 128, number_of_points)\n",
    "        \n",
    "        X = self.shared_mlp_2(X) # Output: (batch_size, number_of_classes, number_of_points)\n",
    "        \n",
    "        return X"
   ]
  }
 ],
 "metadata": {
  "kernelspec": {
   "display_name": "Python 3",
   "language": "python",
   "name": "python3"
  },
  "language_info": {
   "codemirror_mode": {
    "name": "ipython",
    "version": 3
   },
   "file_extension": ".py",
   "mimetype": "text/x-python",
   "name": "python",
   "nbconvert_exporter": "python",
   "pygments_lexer": "ipython3",
   "version": "3.8.16"
  },
  "orig_nbformat": 4,
  "vscode": {
   "interpreter": {
    "hash": "d4d1e4263499bec80672ea0156c357c1ee493ec2b1c70f0acce89fc37c4a6abe"
   }
  }
 },
 "nbformat": 4,
 "nbformat_minor": 2
}
